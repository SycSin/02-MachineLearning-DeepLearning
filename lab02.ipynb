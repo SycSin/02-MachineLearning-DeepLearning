{
 "cells": [
  {
   "cell_type": "code",
   "execution_count": 2,
   "id": "f50aa5f1-6395-4bb4-ba4e-ba2d93e06336",
   "metadata": {},
   "outputs": [],
   "source": [
    "import numpy as np\n",
    "import matplotlib.pyplot as plt\n",
    "import sklearn\n",
    "import os\n",
    "import pathlib"
   ]
  },
  {
   "cell_type": "code",
   "execution_count": 8,
   "id": "211a1e72-86e5-4b22-8937-169d250e0480",
   "metadata": {
    "tags": []
   },
   "outputs": [
    {
     "name": "stdout",
     "output_type": "stream",
     "text": [
      "There are 2 directories and 1 images in 'data/CIFAR-10-images/'.\n",
      "There are 10 directories and 1 images in 'data/CIFAR-10-images/test'.\n",
      "There are 0 directories and 1000 images in 'data/CIFAR-10-images/test/cat'.\n",
      "There are 0 directories and 1000 images in 'data/CIFAR-10-images/test/dog'.\n",
      "There are 0 directories and 1000 images in 'data/CIFAR-10-images/test/truck'.\n",
      "There are 0 directories and 1000 images in 'data/CIFAR-10-images/test/bird'.\n",
      "There are 0 directories and 1000 images in 'data/CIFAR-10-images/test/airplane'.\n",
      "There are 0 directories and 1000 images in 'data/CIFAR-10-images/test/ship'.\n",
      "There are 0 directories and 1000 images in 'data/CIFAR-10-images/test/frog'.\n",
      "There are 0 directories and 1000 images in 'data/CIFAR-10-images/test/horse'.\n",
      "There are 0 directories and 1000 images in 'data/CIFAR-10-images/test/deer'.\n",
      "There are 0 directories and 1000 images in 'data/CIFAR-10-images/test/automobile'.\n",
      "There are 10 directories and 1 images in 'data/CIFAR-10-images/train'.\n",
      "There are 0 directories and 5000 images in 'data/CIFAR-10-images/train/cat'.\n",
      "There are 0 directories and 5000 images in 'data/CIFAR-10-images/train/dog'.\n",
      "There are 0 directories and 5000 images in 'data/CIFAR-10-images/train/truck'.\n",
      "There are 0 directories and 5000 images in 'data/CIFAR-10-images/train/bird'.\n",
      "There are 1 directories and 5000 images in 'data/CIFAR-10-images/train/airplane'.\n",
      "There are 0 directories and 1 images in 'data/CIFAR-10-images/train/airplane/.ipynb_checkpoints'.\n",
      "There are 0 directories and 5000 images in 'data/CIFAR-10-images/train/ship'.\n",
      "There are 0 directories and 5000 images in 'data/CIFAR-10-images/train/frog'.\n",
      "There are 0 directories and 5000 images in 'data/CIFAR-10-images/train/horse'.\n",
      "There are 0 directories and 5000 images in 'data/CIFAR-10-images/train/deer'.\n",
      "There are 0 directories and 5000 images in 'data/CIFAR-10-images/train/automobile'.\n"
     ]
    }
   ],
   "source": [
    "for dirpath, dirnames, filenames in os.walk(\"data/CIFAR-10-images/\"):\n",
    "    print(f\"There are {len(dirnames)} directories and {len(filenames)} images in '{dirpath}'.\")"
   ]
  },
  {
   "cell_type": "code",
   "execution_count": 11,
   "id": "35e9d20d-8c4f-44b7-930a-40df11aaea3a",
   "metadata": {},
   "outputs": [
    {
     "name": "stdout",
     "output_type": "stream",
     "text": [
      "['airplane' 'automobile' 'bird' 'cat' 'deer' 'dog' 'frog' 'horse' 'ship'\n",
      " 'truck'] 10\n"
     ]
    }
   ],
   "source": [
    "import numpy as np\n",
    "import matplotlib.pyplot as plt\n",
    "import sklearn\n",
    "import os\n",
    "import pathlib\n",
    "\n",
    "# get class names from folders\n",
    "data_dir = pathlib.Path(\"data/CIFAR-10-images/train/\")  # turn our training path into a Python path\n",
    "\n",
    "class_names = np.array(sorted(os.listdir(data_dir))) # TODO: create a list of class_names from the subdirectories\n",
    "print(class_names, len(class_names))"
   ]
  },
  {
   "cell_type": "code",
   "execution_count": 12,
   "id": "a48be30d-6039-4132-9174-ee55f2fd2e1a",
   "metadata": {},
   "outputs": [
    {
     "data": {
      "text/plain": [
       "(10,\n",
       " {0: 'airplane',\n",
       "  1: 'automobile',\n",
       "  2: 'bird',\n",
       "  3: 'cat',\n",
       "  4: 'deer',\n",
       "  5: 'dog',\n",
       "  6: 'frog',\n",
       "  7: 'horse',\n",
       "  8: 'ship',\n",
       "  9: 'truck'})"
      ]
     },
     "execution_count": 12,
     "metadata": {},
     "output_type": "execute_result"
    }
   ],
   "source": [
    "# associate class names with numbers, machinelaerning and deeplearning works with numbers!\n",
    "class_names_dict =  dict(enumerate(class_names)) # TODO: create the dictionary\n",
    "len(class_names_dict), class_names_dict"
   ]
  },
  {
   "cell_type": "code",
   "execution_count": 21,
   "id": "3dd516a0-01ea-48dd-8d2d-d5f03a12ca52",
   "metadata": {},
   "outputs": [],
   "source": [
    "import random\n",
    "import matplotlib.image as mpimg\n",
    "\n",
    "\n",
    "def display_random_img(target_dir, target_class):\n",
    "    target_folder = target_dir + target_class\n",
    "    random_image = random.sample(os.listdir(target_folder), 1)\n",
    "\n",
    "    img = mpimg.imread(target_folder + \"/\" + random_image[0])\n",
    "\n",
    "    plt.imshow(img)\n",
    "    plt.title(target_class)\n",
    "    plt.axis(\"off\");\n",
    "    print(f\"Image shape: {img.shape}\")\n",
    "\n",
    "    return img"
   ]
  },
  {
   "cell_type": "code",
   "execution_count": 22,
   "id": "4839dc18-1113-491d-b146-78c7ebcb8bd8",
   "metadata": {},
   "outputs": [
    {
     "name": "stdout",
     "output_type": "stream",
     "text": [
      "Image shape: (32, 32, 3)\n"
     ]
    },
    {
     "data": {
      "image/png": "[encoded data removed]",
      "text/plain": [
       "<Figure size 640x480 with 1 Axes>"
      ]
     },
     "metadata": {},
     "output_type": "display_data"
    }
   ],
   "source": [
    "# Display a random image\n",
    "img =  display_random_img(str(data_dir)+'/', class_names[0]) # TODO: Call display_random_img(target_dir, target_class) right here"
   ]
  },
  {
   "cell_type": "code",
   "execution_count": 123,
   "id": "1161f44a-b183-4f3a-bbd1-d066fe664f50",
   "metadata": {},
   "outputs": [
    {
     "name": "stdout",
     "output_type": "stream",
     "text": [
      "Image shape: (32, 32, 3)\n",
      "Image shape: (32, 32, 3)\n",
      "Image shape: (32, 32, 3)\n",
      "Image shape: (32, 32, 3)\n",
      "Image shape: (32, 32, 3)\n",
      "Image shape: (32, 32, 3)\n",
      "Image shape: (32, 32, 3)\n",
      "Image shape: (32, 32, 3)\n",
      "Image shape: (32, 32, 3)\n"
     ]
    },
    {
     "data": {
      "image/png": "[encoded data removed]",
      "text/plain": [
       "<Figure size 800x700 with 9 Axes>"
      ]
     },
     "metadata": {},
     "output_type": "display_data"
    }
   ],
   "source": [
    "# Display multiple images from the data set\n",
    "plt.figure(figsize=(8, 7))\n",
    "for i in range(9):\n",
    "    plt.subplot(3, 3, i + 1)\n",
    "    img =  display_random_img(str(data_dir)+'/', class_names[0]) # TODO: Call display_random_img(target_dir, target_class) right here (Care: pass the right target class!)\n",
    "    plt.axis(False)"
   ]
  },
  {
   "cell_type": "code",
   "execution_count": 26,
   "id": "8c8827b2-24db-40b5-a80a-26cf5a9b87e6",
   "metadata": {},
   "outputs": [],
   "source": [
    "# TODO: Display image as array\n",
    "image2array = np.asarray(img)"
   ]
  },
  {
   "cell_type": "code",
   "execution_count": 27,
   "id": "8b0f2d34-c69f-4524-b853-8388bdc56395",
   "metadata": {},
   "outputs": [
    {
     "data": {
      "text/plain": [
       "(32, 32, 3)"
      ]
     },
     "execution_count": 27,
     "metadata": {},
     "output_type": "execute_result"
    }
   ],
   "source": [
    "# TODO: Display image shape (Remember, the image datatype should be a Numpy Array -> https://numpy.org/doc/stable/reference/generated/numpy.shape.html)\n",
    "np.shape(image2array)"
   ]
  },
  {
   "cell_type": "code",
   "execution_count": 51,
   "id": "fd1f898e-7f12-4ec5-9acf-32f9775f395e",
   "metadata": {},
   "outputs": [
    {
     "data": {
      "text/plain": [
       "(array([[[0.98039216, 0.98431373, 0.95294118],\n",
       "         [0.98039216, 0.98431373, 0.96078431],\n",
       "         [0.99607843, 1.        , 0.99215686],\n",
       "         ...,\n",
       "         [0.96862745, 1.        , 0.98431373],\n",
       "         [0.97647059, 1.        , 0.97254902],\n",
       "         [0.96078431, 0.99215686, 0.93333333]],\n",
       " \n",
       "        [[1.        , 1.        , 0.98039216],\n",
       "         [0.98823529, 1.        , 0.97254902],\n",
       "         [0.99607843, 1.        , 0.99215686],\n",
       "         ...,\n",
       "         [0.96078431, 0.99607843, 0.97647059],\n",
       "         [0.97647059, 1.        , 0.96470588],\n",
       "         [0.98431373, 1.        , 0.95686275]],\n",
       " \n",
       "        [[0.99607843, 1.        , 0.98039216],\n",
       "         [0.99607843, 1.        , 0.98431373],\n",
       "         [0.97254902, 0.98823529, 0.98431373],\n",
       "         ...,\n",
       "         [0.97647059, 1.        , 0.99215686],\n",
       "         [0.97647059, 1.        , 0.96470588],\n",
       "         [0.97254902, 1.        , 0.95294118]],\n",
       " \n",
       "        ...,\n",
       " \n",
       "        [[0.8745098 , 0.87058824, 0.76078431],\n",
       "         [0.96078431, 0.95686275, 0.8745098 ],\n",
       "         [0.9254902 , 0.93333333, 0.88235294],\n",
       "         ...,\n",
       "         [0.55294118, 0.52941176, 0.5372549 ],\n",
       "         [0.7372549 , 0.71372549, 0.72941176],\n",
       "         [0.85490196, 0.82745098, 0.85490196]],\n",
       " \n",
       "        [[0.8627451 , 0.81176471, 0.68627451],\n",
       "         [0.94117647, 0.91372549, 0.81176471],\n",
       "         [0.90588235, 0.91764706, 0.85098039],\n",
       "         ...,\n",
       "         [0.49803922, 0.4745098 , 0.49019608],\n",
       "         [0.55294118, 0.5254902 , 0.55294118],\n",
       "         [0.60392157, 0.57647059, 0.60392157]],\n",
       " \n",
       "        [[0.85882353, 0.76862745, 0.63529412],\n",
       "         [0.90588235, 0.8627451 , 0.75294118],\n",
       "         [0.83921569, 0.85882353, 0.78039216],\n",
       "         ...,\n",
       "         [0.46666667, 0.44313725, 0.45882353],\n",
       "         [0.50980392, 0.48235294, 0.50980392],\n",
       "         [0.54901961, 0.52156863, 0.55294118]]]),\n",
       " array(9),\n",
       " array([[[0.31372549, 0.31372549, 0.31372549],\n",
       "         [0.27843137, 0.27843137, 0.27843137],\n",
       "         [0.26666667, 0.26666667, 0.26666667],\n",
       "         ...,\n",
       "         [0.96078431, 0.96078431, 0.96078431],\n",
       "         [0.98039216, 0.98039216, 0.98039216],\n",
       "         [0.92941176, 0.92941176, 0.92941176]],\n",
       " \n",
       "        [[0.26666667, 0.26666667, 0.26666667],\n",
       "         [0.24705882, 0.24705882, 0.24705882],\n",
       "         [0.23529412, 0.23529412, 0.23529412],\n",
       "         ...,\n",
       "         [0.93333333, 0.93333333, 0.93333333],\n",
       "         [0.94901961, 0.94901961, 0.94901961],\n",
       "         [0.9254902 , 0.9254902 , 0.9254902 ]],\n",
       " \n",
       "        [[0.16862745, 0.16862745, 0.16862745],\n",
       "         [0.19215686, 0.19215686, 0.19215686],\n",
       "         [0.20784314, 0.20784314, 0.20784314],\n",
       "         ...,\n",
       "         [0.9372549 , 0.9372549 , 0.9372549 ],\n",
       "         [0.94901961, 0.94901961, 0.94901961],\n",
       "         [0.94117647, 0.94117647, 0.94117647]],\n",
       " \n",
       "        ...,\n",
       " \n",
       "        [[0.36862745, 0.36862745, 0.36862745],\n",
       "         [0.38823529, 0.38823529, 0.38823529],\n",
       "         [0.40784314, 0.40784314, 0.40784314],\n",
       "         ...,\n",
       "         [0.48235294, 0.48235294, 0.48235294],\n",
       "         [0.47843137, 0.47843137, 0.47843137],\n",
       "         [0.47843137, 0.47843137, 0.47843137]],\n",
       " \n",
       "        [[0.35294118, 0.35294118, 0.35294118],\n",
       "         [0.37254902, 0.37254902, 0.37254902],\n",
       "         [0.38823529, 0.38823529, 0.38823529],\n",
       "         ...,\n",
       "         [0.48627451, 0.48627451, 0.48627451],\n",
       "         [0.48627451, 0.48627451, 0.48627451],\n",
       "         [0.48627451, 0.48627451, 0.48627451]],\n",
       " \n",
       "        [[0.33333333, 0.33333333, 0.33333333],\n",
       "         [0.34901961, 0.34901961, 0.34901961],\n",
       "         [0.36470588, 0.36470588, 0.36470588],\n",
       "         ...,\n",
       "         [0.48627451, 0.48627451, 0.48627451],\n",
       "         [0.49019608, 0.49019608, 0.49019608],\n",
       "         [0.49411765, 0.49411765, 0.49411765]]]),\n",
       " array(9))"
      ]
     },
     "execution_count": 51,
     "metadata": {},
     "output_type": "execute_result"
    }
   ],
   "source": [
    "def load_images_as_features_and_labels(target_dir, class_name_dictionary):\n",
    "    \"\"\"\n",
    "    returns \n",
    "    X -- images as numpy array\n",
    "    y -- labels as numpy array\n",
    "    \"\"\"\n",
    "\n",
    "    # TODO: Add your code here\n",
    "    \n",
    "    for i in range(0, len(class_names_dict)):\n",
    "        for filenames in os.walk(target_dir+class_names_dict[i]):\n",
    "            #print(filenames)\n",
    "            \n",
    "            for file in filenames[2]: \n",
    "                image_path = pathlib.Path(filenames[0]+ '/' + file)\n",
    "                X = (mpimg.imread(image_path))/255\n",
    "                y = np.array(i)       \n",
    "    \n",
    "    return X, y\n",
    "    \n",
    "X_train, y_train = load_images_as_features_and_labels('data/CIFAR-10-images/train/', class_names_dict)\n",
    "X_test, y_test = load_images_as_features_and_labels('data/CIFAR-10-images/test/', class_names_dict)\n",
    "\n",
    "X_train, y_train, X_test, y_test"
   ]
  }
 ],
 "metadata": {
  "kernelspec": {
   "display_name": "Python 3 (ipykernel)",
   "language": "python",
   "name": "python3"
  },
  "language_info": {
   "codemirror_mode": {
    "name": "ipython",
    "version": 3
   },
   "file_extension": ".py",
   "mimetype": "text/x-python",
   "name": "python",
   "nbconvert_exporter": "python",
   "pygments_lexer": "ipython3",
   "version": "3.10.0"
  }
 },
 "nbformat": 4,
 "nbformat_minor": 5
}
